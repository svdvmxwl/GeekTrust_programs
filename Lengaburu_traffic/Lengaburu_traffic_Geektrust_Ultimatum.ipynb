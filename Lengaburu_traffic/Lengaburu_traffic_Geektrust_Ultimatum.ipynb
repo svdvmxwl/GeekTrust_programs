{
 "cells": [
  {
   "cell_type": "code",
   "execution_count": 1,
   "metadata": {
    "collapsed": true
   },
   "outputs": [],
   "source": [
    "\n",
    "a = {'o1':-1,'o2':-1,'w':-1,'w1':-1,'w2':-1,'w3':-1,'spU':-1}\n",
    "i = {'o1':-1,'o2':-1,'w':-1,'w1':-1,'w2':-1,'w3':-1,'spU':-1}\n",
    "\n",
    "path1 = ''\n",
    "path2 = ''\n",
    "sp1 = 0\n",
    "sp2 = 0\n",
    "weth = ''\n",
    "\n",
    "\n",
    "def getinp(DT):\n",
    "    s2 = input(DT)\n",
    "    s2 = s2.lower()\n",
    "    global k\n",
    "    k = s2.split()\n",
    "    j = -1\n",
    "\n",
    "    \n",
    "    global a\n",
    "    global i\n",
    "    \n",
    "    a = {'o1':-1,'o2':-1,'w':-1,'w1':-1,'w2':-1,'w3':-1,'spU':-1}\n",
    "    i = {'o1':-1,'o2':-1,'w':-1,'w1':-1,'w2':-1,'w3':-1,'spU':-1}\n",
    "\n",
    "    global path1\n",
    "    global path2\n",
    "    global sp1\n",
    "    global sp2\n",
    "    global weth\n",
    "\n",
    "    for wrd in k:\n",
    "        j += 1\n",
    "        a['o1'] = wrd.find('orbit1')\n",
    "        a['o2'] = wrd.find('orbit2')\n",
    "        a['w'] = wrd.find('weather')\n",
    "    \n",
    "        a['w1'] = wrd.find('sunny')\n",
    "        a['w2'] = wrd.find('windy')\n",
    "        a['w3'] = wrd.find('rainy')\n",
    "    \n",
    "        a['spU'] =wrd.find('megamiles/hour')\n",
    "    \n",
    "    \n",
    "        if a['o1'] != -1:\n",
    "            i['o1'] = j\n",
    "        if a['o2'] != -1:\n",
    "            i['o2'] = j\n",
    "        if a['w'] != -1:\n",
    "            i['w'] = j\n",
    "        if a['w1'] != -1:\n",
    "            i['w1'] = j\n",
    "        if a['w2'] != -1:\n",
    "            i['w2'] = j\n",
    "        if a['w3'] != -1:\n",
    "            i['w3'] = j\n",
    "        if a['spU'] != -1:\n",
    "            i['spU'] = j\n",
    "        \n",
    "    if i['spU'] != -1:\n",
    "        if i['o1'] != -1:\n",
    "            path1 = k[i['o1']]\n",
    "            sp1 = k[i['spU'] - 1]\n",
    "        if i['o2'] != -1:\n",
    "            path2 = k[i['o2']]\n",
    "            sp2 = k[i['spU'] - 1]\n",
    "        if i['o1'] == -1 and i['o2'] == -1:\n",
    "            path1 = path2 = 'no path'\n",
    "            sp1 = sp2 = 'no limit yet'\n",
    "        \n",
    "    if i['w'] != -1:\n",
    "        if i['w1'] != -1:\n",
    "            weth = k[i['w1']]\n",
    "        \n",
    "        if i['w2'] != -1:\n",
    "            weth = k[i['w2']]\n",
    "        \n",
    "        if i['w3'] != -1:\n",
    "            weth = k[i['w3']]\n"
   ]
  },
  {
   "cell_type": "code",
   "execution_count": 2,
   "metadata": {},
   "outputs": [
    {
     "name": "stdout",
     "output_type": "stream",
     "text": [
      "input weatherweather is Windy\n",
      "input orbit1orbit1 14 megamiles/hour\n",
      "input orbit220 megamiles/hour\n",
      "please give valid input\n",
      "input orbit2orbit2 20 megamiles/hour\n"
     ]
    }
   ],
   "source": [
    "while True:\n",
    "    getinp('input weather')\n",
    "    if i['w'] == -1 or i['w1'] == i['w2'] == i['w3'] == -1:\n",
    "        print('Please Give Valid input')\n",
    "    else:\n",
    "        break\n",
    "                \n",
    "wthrTYP = weth\n",
    "\n",
    "while True:\n",
    "    getinp('input orbit1')\n",
    "    if i['o1'] == -1 or i['spU'] == -1 or k[i['spU'] - 1].isnumeric() == False:\n",
    "        print(\"please give valid input\")\n",
    "    else:\n",
    "        break\n",
    "\n",
    "Orbt1 = path1\n",
    "MSP1 = int(sp1)\n",
    "\n",
    "while True:\n",
    "    getinp('input orbit2')\n",
    "    if i['o2'] == -1 or i['spU'] == -1 or k[i['spU'] - 1].isnumeric() == False:\n",
    "        print(\"please give valid input\")\n",
    "    else:\n",
    "        break\n",
    "        \n",
    "Orbt2 = path2\n",
    "MSP2 = int(sp2)"
   ]
  },
  {
   "cell_type": "code",
   "execution_count": 3,
   "metadata": {},
   "outputs": [],
   "source": [
    "## wthr --> weather, Orbt --> Orbit/path, Veh --> Vehicle, Sup --> support, Prcntg --> Percent change\n",
    "## Crtr --> creater, MaxSp --> Maximum allowed speed Fnl --> Final\n",
    "class Wthr(object):\n",
    "    \n",
    "    def __init__(self,WthrTyp='',VehSup=0,prcntgCrtr=0.0):\n",
    "        self.WthrTyp = WthrTyp\n",
    "        self.VehSup = VehSup\n",
    "        self.prcntgCrtr = prcntgCrtr\n",
    "\n",
    "vehsup = 0\n",
    "crttpct = 0.0        \n",
    "if wthrTYP == 'rainy':\n",
    "    vehsup = (0,1,1)\n",
    "    crttpct = 0.200\n",
    "    \n",
    "if wthrTYP == 'windy':\n",
    "    vehsup = (1,0,1)\n",
    "    crttpct = 0.000\n",
    "    \n",
    "if wthrTYP == 'sunny':\n",
    "    vehsup = (1,1,1)\n",
    "    crttpct = -0.100\n",
    "Weather = Wthr(wthrTYP,vehsup,crttpct)"
   ]
  },
  {
   "cell_type": "code",
   "execution_count": 4,
   "metadata": {
    "collapsed": true
   },
   "outputs": [],
   "source": [
    "prcntg = Weather.prcntgCrtr"
   ]
  },
  {
   "cell_type": "code",
   "execution_count": 5,
   "metadata": {
    "collapsed": true
   },
   "outputs": [],
   "source": [
    "class Orbt(object):\n",
    "    global prcntg\n",
    "    def __init__(self,OrbtTyp=0,MaxSp=0,Dist=0,Crtr=0):\n",
    "        self.OrbtTyp = OrbtTyp\n",
    "        self.MaxSp = MaxSp\n",
    "        self.Dist = Dist\n",
    "        self.Crtr = Crtr\n",
    "        self.Crtr += prcntg * self.Crtr\n",
    "        \n",
    "orbit1 = Orbt(Orbt1,MSP1,18,20)\n",
    "orbit2 = Orbt(Orbt2,MSP2,20,10)"
   ]
  },
  {
   "cell_type": "code",
   "execution_count": 6,
   "metadata": {
    "collapsed": true
   },
   "outputs": [],
   "source": [
    "class Veh(object):\n",
    "    def __init__(self,VehTyp,Sp=0,TCrtr=0):\n",
    "        self.VehTyp = VehTyp\n",
    "        self.Sp = Sp\n",
    "        self.TCrtr = TCrtr\n",
    "        \n",
    "Bike = Veh('bike',10,2)\n",
    "Tuktuk = Veh('tuktuk',12,1)\n",
    "SuCar = Veh('car',20,3)"
   ]
  },
  {
   "cell_type": "code",
   "execution_count": 7,
   "metadata": {
    "collapsed": true
   },
   "outputs": [],
   "source": [
    "Path = [orbit1, orbit2]\n",
    "Moti = [Bike,Tuktuk, SuCar]\n",
    "\n",
    "z1 = 0\n",
    "ij = [[-1,-1,-1],[-1,-1,-1]]\n",
    "for orb in [orbit1, orbit2]:\n",
    "    z2 = 0\n",
    "    for veh in [Bike,Tuktuk, SuCar]:\n",
    "        MinMaxSp = min(veh.Sp , orb.MaxSp)\n",
    "        NormTime = orb.Dist / MinMaxSp\n",
    "        CrtrTime = orb.Crtr*veh.TCrtr*(1/60.00)\n",
    "        ij[z1][z2] = (NormTime + CrtrTime)*Weather.VehSup[z2]\n",
    "        z2 += 1\n",
    "    z1 += 1\n",
    "    "
   ]
  },
  {
   "cell_type": "code",
   "execution_count": 8,
   "metadata": {
    "collapsed": true
   },
   "outputs": [],
   "source": [
    "mini = max(max(ij[0]),max(ij[1]))\n",
    "for e in range(0,2):\n",
    "    for f in range(0,3):\n",
    "        if ij[e][f] < mini and ij[e][f] != 0:\n",
    "            mini = ij[e][f]"
   ]
  },
  {
   "cell_type": "code",
   "execution_count": 9,
   "metadata": {
    "collapsed": true
   },
   "outputs": [],
   "source": [
    "\n",
    "for e in range(0,2):\n",
    "    for f in range(0,3):\n",
    "        ij[e][f] = str(ij[e][f])\n",
    "StrMini = str(mini)\n",
    "for e in range(0,2):\n",
    "    for f in range(0,3):\n",
    "        l = ij[e][f].find(StrMini)\n",
    "        if l == 0:\n",
    "            global v1\n",
    "            global v2\n",
    "            v1 = e\n",
    "            v2 = f\n",
    "            break"
   ]
  },
  {
   "cell_type": "code",
   "execution_count": 10,
   "metadata": {},
   "outputs": [
    {
     "name": "stdout",
     "output_type": "stream",
     "text": [
      "Vehicle Car on Orbit2\n"
     ]
    }
   ],
   "source": [
    "print('Vehicle ' + Moti[v2].VehTyp.title() + ' on ' + Path[v1].OrbtTyp.title())"
   ]
  },
  {
   "cell_type": "code",
   "execution_count": null,
   "metadata": {},
   "outputs": [],
   "source": []
  },
  {
   "cell_type": "code",
   "execution_count": null,
   "metadata": {
    "collapsed": true
   },
   "outputs": [],
   "source": []
  }
 ],
 "metadata": {
  "kernelspec": {
   "display_name": "Python 3",
   "language": "python",
   "name": "python3"
  },
  "language_info": {
   "codemirror_mode": {
    "name": "ipython",
    "version": 3
   },
   "file_extension": ".py",
   "mimetype": "text/x-python",
   "name": "python",
   "nbconvert_exporter": "python",
   "pygments_lexer": "ipython3",
   "version": "3.6.3"
  }
 },
 "nbformat": 4,
 "nbformat_minor": 2
}
