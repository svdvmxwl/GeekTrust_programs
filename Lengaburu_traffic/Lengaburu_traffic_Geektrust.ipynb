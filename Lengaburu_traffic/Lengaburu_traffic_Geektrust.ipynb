{
 "cells": [
  {
   "cell_type": "code",
   "execution_count": 32,
   "metadata": {
    "collapsed": true
   },
   "outputs": [],
   "source": [
    "## wthr --> weather, Orbt --> Orbit/path, Veh --> Vehicle, Sup --> support, Prcntg --> Percent change\n",
    "## Crtr --> creater, MaxSp --> Maximum allowed speed Fnl --> Final\n",
    "class Wthr(object):\n",
    "    \n",
    "    def __init__(self,WthrTyp,VehSup=0,prcntgCrtr=0.0):\n",
    "        self.WthrTyp = WthrTyp\n",
    "        if self.WthrTyp is 'Rainy':\n",
    "            self.VehSup = (0,1,1)\n",
    "            \n",
    "        elif self.WthrTyp is 'Windy':\n",
    "            self.VehSup = (1,0,1)\n",
    "            \n",
    "        elif self.WthrTyp is 'Sunny':\n",
    "            self.VehSup = (1,1,1)\n",
    "        else:\n",
    "            self.VehSup = (1,1,1)\n",
    "            \n",
    "    def PrcntgCrtr(self,WthrTyp,prcntgCrtr=0.0):\n",
    "        if self.WthrTyp is 'Rainy':\n",
    "            self.prcntgCrtr = 0.2\n",
    "        elif self.WthrTyp is 'Windy':\n",
    "            self.prcntgCrtr = 0\n",
    "        elif self.WthrTyp is 'Sunny':\n",
    "            self.prcntgCrtr = -0.1\n",
    "        else:\n",
    "            self.PrcntgCrtr = 0\n",
    "        return self.prcntgCrtr\n",
    "            \n"
   ]
  },
  {
   "cell_type": "code",
   "execution_count": 34,
   "metadata": {
    "collapsed": true
   },
   "outputs": [],
   "source": [
    "wthe = Wthr('Sunny')\n",
    "PrcntgCrtr = wthe.PrcntgCrtr()"
   ]
  },
  {
   "cell_type": "code",
   "execution_count": 3,
   "metadata": {},
   "outputs": [
    {
     "data": {
      "text/plain": [
       "('orbit1', 3)"
      ]
     },
     "execution_count": 3,
     "metadata": {},
     "output_type": "execute_result"
    }
   ],
   "source": [
    "## This code finds first occurance in strings with specific SubString and the position. In this case, 'orbit'\n",
    "\n",
    "MyString1 = 'This string contains Orbit1 in the middle to tst Orbit'\n",
    "MyString1 = MyString1.lower()\n",
    "k = MyString1.split()\n",
    "\n",
    "a= -1\n",
    "i= -1\n",
    "for str in k:\n",
    "    a=str.find('orbit')\n",
    "    i +=1\n",
    "    if a != -1:\n",
    "        break\n",
    "k[i] , i"
   ]
  },
  {
   "cell_type": "code",
   "execution_count": 57,
   "metadata": {
    "collapsed": true
   },
   "outputs": [],
   "source": [
    "class Orbt(object):\n",
    "    def __init__(self,OrbtTyp,MaxSp=0,Crtr=0,Dist=0):\n",
    "        self.OrbtTyp = OrbtTyp\n",
    "        self.MaxSp = MaxSp\n",
    "        if self.OrbtTyp is 1:\n",
    "            self.Dist = 18\n",
    "            self.Crtr = 20\n",
    "        if self.OrbtTyp is 2:\n",
    "            self.Dist = 20\n",
    "            self.Crtr = 10\n",
    "   \n",
    "    \n",
    "    def FnlCrtr(self):\n",
    "        self.Crtr += PrcntgCrtr * self.Crtr\n",
    "        return self.Crtr"
   ]
  },
  {
   "cell_type": "code",
   "execution_count": 58,
   "metadata": {
    "collapsed": true
   },
   "outputs": [],
   "source": [
    "Or= Orbt(1)"
   ]
  },
  {
   "cell_type": "code",
   "execution_count": 59,
   "metadata": {},
   "outputs": [
    {
     "data": {
      "text/plain": [
       "(1, 1, 1)"
      ]
     },
     "execution_count": 59,
     "metadata": {},
     "output_type": "execute_result"
    }
   ],
   "source": [
    "wthe.VehSup"
   ]
  },
  {
   "cell_type": "code",
   "execution_count": 60,
   "metadata": {
    "collapsed": true
   },
   "outputs": [],
   "source": [
    "PrcntgCrtr = 6\n",
    "Crtr = Or.FnlCrtr()"
   ]
  },
  {
   "cell_type": "code",
   "execution_count": 61,
   "metadata": {},
   "outputs": [
    {
     "data": {
      "text/plain": [
       "140"
      ]
     },
     "execution_count": 61,
     "metadata": {},
     "output_type": "execute_result"
    }
   ],
   "source": [
    "Crtr"
   ]
  },
  {
   "cell_type": "code",
   "execution_count": 55,
   "metadata": {
    "collapsed": true
   },
   "outputs": [],
   "source": [
    "MyString = 'Weather is Sunny'\n",
    "a = (MyString.split()[2]).lower()"
   ]
  },
  {
   "cell_type": "code",
   "execution_count": 56,
   "metadata": {},
   "outputs": [
    {
     "data": {
      "text/plain": [
       "'sunny'"
      ]
     },
     "execution_count": 56,
     "metadata": {},
     "output_type": "execute_result"
    }
   ],
   "source": [
    "a"
   ]
  },
  {
   "cell_type": "code",
   "execution_count": 65,
   "metadata": {
    "collapsed": true
   },
   "outputs": [],
   "source": [
    "class Veh(object):\n",
    "    def __init__(self,VehTyp,Sp=0,TCrtr=0):\n",
    "        self.VehTyp = VehTyp\n",
    "        if self.VehTyp is 'bike':\n",
    "            self.Sp = 10\n",
    "            self.TCrtr = 2\n",
    "        elif self.VehTyp is 'tuktuk':\n",
    "            self.Sp = 12\n",
    "            self.TCrtr = 1\n",
    "        elif self.VehTyp is 'supercar':\n",
    "            self.Sp = 20\n",
    "            self.TCrtr = 3\n",
    "        else:\n",
    "            self.Sp = 10\n",
    "            self.TCrtr = 3"
   ]
  },
  {
   "cell_type": "code",
   "execution_count": 72,
   "metadata": {
    "collapsed": true
   },
   "outputs": [],
   "source": [
    "Veh1 = Veh('bike')"
   ]
  },
  {
   "cell_type": "code",
   "execution_count": 74,
   "metadata": {},
   "outputs": [
    {
     "data": {
      "text/plain": [
       "'bike'"
      ]
     },
     "execution_count": 74,
     "metadata": {},
     "output_type": "execute_result"
    }
   ],
   "source": [
    "Veh1.VehTyp"
   ]
  },
  {
   "cell_type": "code",
   "execution_count": 84,
   "metadata": {},
   "outputs": [
    {
     "name": "stdout",
     "output_type": "stream",
     "text": [
      "orbit1's is shofting to orbit2's weather temperature\n"
     ]
    }
   ],
   "source": [
    "i1 = input()\n",
    "i1 = i1.lower()\n",
    "k = i1.split()\n",
    "j = -1\n",
    "\n",
    "a= {'o1':-1,'o2':-1,'w1':-1}\n",
    "i= {'o1':-1,'o2':-1,'w1':-1}\n",
    "for str in k:\n",
    "    a['o1']=str.find('orbit1')\n",
    "    a['o2']=str.find('orbit2')\n",
    "    a['w1']=str.find('weather')\n",
    "    \n",
    "##    i['o1'] += 1\n",
    "##    i['o2'] += 1\n",
    "##    i['w1'] += 1\n",
    "\n",
    "    j += 1\n",
    "    \n",
    "##    if( a['o1'] != -1) or ( a['o1'] != -1) or( a['w1'] != -1) :\n",
    "    if a['o1'] != -1:\n",
    "        i['o1'] = j\n",
    "    if a['o2'] != -1:\n",
    "        i['o2'] = j\n",
    "    if a['w1'] != -1:\n",
    "        i['w1'] = j\n",
    "\n",
    "    \n",
    "    \n",
    "l = {k[i['o1']]:i['o1'],  k[i['o2']]:i['o2'],  k[i['w1']]:i['w1']}"
   ]
  },
  {
   "cell_type": "code",
   "execution_count": 85,
   "metadata": {},
   "outputs": [
    {
     "data": {
      "text/plain": [
       "{\"orbit1's\": 0, \"orbit2's\": 4, 'weather': 5}"
      ]
     },
     "execution_count": 85,
     "metadata": {},
     "output_type": "execute_result"
    }
   ],
   "source": [
    "l"
   ]
  },
  {
   "cell_type": "code",
   "execution_count": 88,
   "metadata": {},
   "outputs": [
    {
     "data": {
      "text/plain": [
       "5"
      ]
     },
     "execution_count": 88,
     "metadata": {},
     "output_type": "execute_result"
    }
   ],
   "source": [
    "l[\"weather\"]"
   ]
  },
  {
   "cell_type": "code",
   "execution_count": 12,
   "metadata": {},
   "outputs": [
    {
     "name": "stdout",
     "output_type": "stream",
     "text": [
      "weather is rainy\n"
     ]
    }
   ],
   "source": [
    "s2 = input()\n",
    "s2 = s2.lower()\n",
    "k = s2.split()\n",
    "j = -1\n",
    "\n",
    "a= {'o1':-1,'o2':-1,'w':-1,'w1':-1,'w2':-1,'w3':-1,'spU':-1}\n",
    "i= {'o1':-1,'o2':-1,'w':-1,'w1':-1,'w2':-1,'w3':-1,'spU':-1}\n",
    "\n",
    "\n",
    "for wrd in k:\n",
    "    j += 1\n",
    "    a['o1'] = wrd.find('orbit1')\n",
    "    a['o2'] = wrd.find('orbit2')\n",
    "    a['w'] = wrd.find('weather')\n",
    "    \n",
    "    a['w1'] = wrd.find('sunny')\n",
    "    a['w2'] = wrd.find('windy')\n",
    "    a['w3'] = wrd.find('rainy')\n",
    "    \n",
    "    a['spU'] =wrd.find('megamiles/hour')\n",
    "    \n",
    "    \n",
    "    if a['o1'] != -1:\n",
    "        i['o1'] = j\n",
    "    if a['o2'] != -1:\n",
    "        i['o2'] = j\n",
    "    if a['w'] != -1:\n",
    "        i['w'] = j\n",
    "    if a['w1'] != -1:\n",
    "        i['w1'] = j\n",
    "    if a['w2'] != -1:\n",
    "        i['w2'] = j\n",
    "    if a['w3'] != -1:\n",
    "        i['w3'] = j\n",
    "    if a['spU'] != -1:\n",
    "        i['spU'] = j\n",
    "        \n",
    "if i['spU'] != -1:\n",
    "    if i['o1'] != -1:\n",
    "        path1 = k[i['o1']]\n",
    "        sp1 = int(k[i['spU'] - 1])\n",
    "    elif i['o2'] != -1:\n",
    "        path2 = k[i['o2']]\n",
    "        sp2 = int(k[i['spU'] - 1])\n",
    "    else:\n",
    "        path1 = 'no path'\n",
    "        sp1 = sp2 = 'no limit yet'\n",
    "        \n",
    "if i['w'] != -1:\n",
    "    if i['w1'] != -1:\n",
    "        weth = k[i['w1']]\n",
    "        \n",
    "    if i['w2'] != -1:\n",
    "        weth = k[i['w2']]\n",
    "        \n",
    "    if i['w3'] != -1:\n",
    "        weth = k[i['w3']]\n",
    "        "
   ]
  },
  {
   "cell_type": "code",
   "execution_count": 13,
   "metadata": {},
   "outputs": [
    {
     "data": {
      "text/plain": [
       "['weather', 'is', 'rainy']"
      ]
     },
     "execution_count": 13,
     "metadata": {},
     "output_type": "execute_result"
    }
   ],
   "source": [
    "k"
   ]
  },
  {
   "cell_type": "code",
   "execution_count": 3,
   "metadata": {},
   "outputs": [
    {
     "data": {
      "text/plain": [
       "{'o1': -1, 'o2': -1, 'spU': -1, 'w': -1, 'w1': -1, 'w2': 0, 'w3': -1}"
      ]
     },
     "execution_count": 3,
     "metadata": {},
     "output_type": "execute_result"
    }
   ],
   "source": [
    "a"
   ]
  },
  {
   "cell_type": "code",
   "execution_count": 4,
   "metadata": {},
   "outputs": [
    {
     "data": {
      "text/plain": [
       "{'o1': 0, 'o2': -1, 'spU': 6, 'w': 12, 'w1': -1, 'w2': 14, 'w3': -1}"
      ]
     },
     "execution_count": 4,
     "metadata": {},
     "output_type": "execute_result"
    }
   ],
   "source": [
    "i"
   ]
  },
  {
   "cell_type": "code",
   "execution_count": 6,
   "metadata": {},
   "outputs": [
    {
     "data": {
      "text/plain": [
       "('orbit1', 88)"
      ]
     },
     "execution_count": 6,
     "metadata": {},
     "output_type": "execute_result"
    }
   ],
   "source": [
    "path1, sp1"
   ]
  },
  {
   "cell_type": "code",
   "execution_count": 1,
   "metadata": {
    "collapsed": true
   },
   "outputs": [],
   "source": [
    "\n",
    "a = {'o1':-1,'o2':-1,'w':-1,'w1':-1,'w2':-1,'w3':-1,'spU':-1}\n",
    "i = {'o1':-1,'o2':-1,'w':-1,'w1':-1,'w2':-1,'w3':-1,'spU':-1}\n",
    "\n",
    "path1 = ''\n",
    "path2 = ''\n",
    "sp1 = 0\n",
    "sp2 = 0\n",
    "weth = ''\n",
    "\n",
    "\n",
    "def getinp(DT):\n",
    "    s2 = input(DT)\n",
    "    s2 = s2.lower()\n",
    "    k = s2.split()\n",
    "    j = -1\n",
    "\n",
    "    \n",
    "    global a\n",
    "    global i\n",
    "\n",
    "    global path1\n",
    "    global path2\n",
    "    global sp1\n",
    "    global sp2\n",
    "    global weth\n",
    "\n",
    "    for wrd in k:\n",
    "        j += 1\n",
    "        a['o1'] = wrd.find('orbit1')\n",
    "        a['o2'] = wrd.find('orbit2')\n",
    "        a['w'] = wrd.find('weather')\n",
    "    \n",
    "        a['w1'] = wrd.find('sunny')\n",
    "        a['w2'] = wrd.find('windy')\n",
    "        a['w3'] = wrd.find('rainy')\n",
    "    \n",
    "        a['spU'] =wrd.find('megamiles/hour')\n",
    "    \n",
    "    \n",
    "        if a['o1'] != -1:\n",
    "            i['o1'] = j\n",
    "        if a['o2'] != -1:\n",
    "            i['o2'] = j\n",
    "        if a['w'] != -1:\n",
    "            i['w'] = j\n",
    "        if a['w1'] != -1:\n",
    "            i['w1'] = j\n",
    "        if a['w2'] != -1:\n",
    "            i['w2'] = j\n",
    "        if a['w3'] != -1:\n",
    "            i['w3'] = j\n",
    "        if a['spU'] != -1:\n",
    "            i['spU'] = j\n",
    "        \n",
    "    if i['spU'] != -1:\n",
    "        if i['o1'] != -1:\n",
    "            path1 = k[i['o1']]\n",
    "            sp1 = int(k[i['spU'] - 1])\n",
    "        if i['o2'] != -1:\n",
    "            path2 = k[i['o2']]\n",
    "            sp2 = int(k[i['spU'] - 1])\n",
    "        if i['o1'] == -1 and i['o2'] == -1:\n",
    "            path1 = path2 = 'no path'\n",
    "            sp1 = sp2 = 'no limit yet'\n",
    "        \n",
    "    if i['w'] != -1:\n",
    "        if i['w1'] != -1:\n",
    "            weth = k[i['w1']]\n",
    "        \n",
    "        if i['w2'] != -1:\n",
    "            weth = k[i['w2']]\n",
    "        \n",
    "        if i['w3'] != -1:\n",
    "            weth = k[i['w3']]\n",
    "\n",
    "    "
   ]
  },
  {
   "cell_type": "code",
   "execution_count": 4,
   "metadata": {},
   "outputs": [
    {
     "name": "stdout",
     "output_type": "stream",
     "text": [
      "input weatherweather is sunny\n",
      "input orbit2orbit2 has traffic speed of 12 megamiles/hour\n",
      "input orbit1orbit1 has traffic speed of 10 megamiles/hour\n"
     ]
    }
   ],
   "source": [
    "weather is sunny\n",
    "orbit2 has traffic speed of 12 megamiles/hour\n",
    "orbit1 has traffic speed of 10 megamiles/hour"
   ]
  },
  {
   "cell_type": "code",
   "execution_count": 3,
   "metadata": {},
   "outputs": [
    {
     "data": {
      "text/plain": [
       "'sunny'"
      ]
     },
     "execution_count": 3,
     "metadata": {},
     "output_type": "execute_result"
    }
   ],
   "source": [
    "weth"
   ]
  },
  {
   "cell_type": "code",
   "execution_count": 2,
   "metadata": {},
   "outputs": [
    {
     "name": "stdout",
     "output_type": "stream",
     "text": [
      "input weatherweather is sunny\n"
     ]
    }
   ],
   "source": [
    "getinp('input weather')"
   ]
  },
  {
   "cell_type": "code",
   "execution_count": 4,
   "metadata": {},
   "outputs": [
    {
     "name": "stdout",
     "output_type": "stream",
     "text": [
      "input orbit1orbit1 has traffic speed of 10 megamiles/hour\n"
     ]
    }
   ],
   "source": [
    "getinp('input orbit1')"
   ]
  },
  {
   "cell_type": "code",
   "execution_count": 6,
   "metadata": {},
   "outputs": [
    {
     "name": "stdout",
     "output_type": "stream",
     "text": [
      "input orbit2orbit2 has traffic speed of 12 megamiles/hour\n"
     ]
    }
   ],
   "source": [
    "getinp('input orbit2')"
   ]
  },
  {
   "cell_type": "code",
   "execution_count": 7,
   "metadata": {},
   "outputs": [
    {
     "data": {
      "text/plain": [
       "('orbit2', 12)"
      ]
     },
     "execution_count": 7,
     "metadata": {},
     "output_type": "execute_result"
    }
   ],
   "source": [
    "path2,sp2"
   ]
  },
  {
   "cell_type": "code",
   "execution_count": 6,
   "metadata": {},
   "outputs": [
    {
     "data": {
      "text/plain": [
       "dict_values([-1, 0, -1, -1, -1, -1, 3])"
      ]
     },
     "execution_count": 6,
     "metadata": {},
     "output_type": "execute_result"
    }
   ],
   "source": [
    "i.values()"
   ]
  },
  {
   "cell_type": "code",
   "execution_count": 13,
   "metadata": {},
   "outputs": [
    {
     "name": "stdout",
     "output_type": "stream",
     "text": [
      "1 dict_values([-1, 0, -1, -1, -1, -1, 3])\n"
     ]
    }
   ],
   "source": [
    "l = 0\n",
    "for term in i.values():\n",
    "    l += 1\n",
    "    if term == -1:\n",
    "        print(l, i.values())\n",
    "        break"
   ]
  },
  {
   "cell_type": "code",
   "execution_count": null,
   "metadata": {
    "collapsed": true
   },
   "outputs": [],
   "source": []
  }
 ],
 "metadata": {
  "kernelspec": {
   "display_name": "Python 3",
   "language": "python",
   "name": "python3"
  },
  "language_info": {
   "codemirror_mode": {
    "name": "ipython",
    "version": 3
   },
   "file_extension": ".py",
   "mimetype": "text/x-python",
   "name": "python",
   "nbconvert_exporter": "python",
   "pygments_lexer": "ipython3",
   "version": "3.6.3"
  }
 },
 "nbformat": 4,
 "nbformat_minor": 2
}
