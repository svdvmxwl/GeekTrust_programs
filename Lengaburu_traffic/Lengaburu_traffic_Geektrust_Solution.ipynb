{
 "cells": [
  {
   "cell_type": "code",
   "execution_count": 1,
   "metadata": {
    "collapsed": true
   },
   "outputs": [],
   "source": [
    "\n",
    "a = {'o1':-1,'o2':-1,'w':-1,'w1':-1,'w2':-1,'w3':-1,'spU':-1}\n",
    "i = {'o1':-1,'o2':-1,'w':-1,'w1':-1,'w2':-1,'w3':-1,'spU':-1}\n",
    "\n",
    "path1 = ''\n",
    "path2 = ''\n",
    "sp1 = 0\n",
    "sp2 = 0\n",
    "weth = ''\n",
    "\n",
    "\n",
    "def getinp(DT):\n",
    "    s2 = input(DT)\n",
    "    s2 = s2.lower()\n",
    "    k = s2.split()\n",
    "    j = -1\n",
    "\n",
    "    \n",
    "    global a\n",
    "    global i\n",
    "\n",
    "    global path1\n",
    "    global path2\n",
    "    global sp1\n",
    "    global sp2\n",
    "    global weth\n",
    "\n",
    "    for wrd in k:\n",
    "        j += 1\n",
    "        a['o1'] = wrd.find('orbit1')\n",
    "        a['o2'] = wrd.find('orbit2')\n",
    "        a['w'] = wrd.find('weather')\n",
    "    \n",
    "        a['w1'] = wrd.find('sunny')\n",
    "        a['w2'] = wrd.find('windy')\n",
    "        a['w3'] = wrd.find('rainy')\n",
    "    \n",
    "        a['spU'] =wrd.find('megamiles/hour')\n",
    "    \n",
    "    \n",
    "        if a['o1'] != -1:\n",
    "            i['o1'] = j\n",
    "        if a['o2'] != -1:\n",
    "            i['o2'] = j\n",
    "        if a['w'] != -1:\n",
    "            i['w'] = j\n",
    "        if a['w1'] != -1:\n",
    "            i['w1'] = j\n",
    "        if a['w2'] != -1:\n",
    "            i['w2'] = j\n",
    "        if a['w3'] != -1:\n",
    "            i['w3'] = j\n",
    "        if a['spU'] != -1:\n",
    "            i['spU'] = j\n",
    "        \n",
    "    if i['spU'] != -1:\n",
    "        if i['o1'] != -1:\n",
    "            path1 = k[i['o1']]\n",
    "            sp1 = int(k[i['spU'] - 1])\n",
    "        if i['o2'] != -1:\n",
    "            path2 = k[i['o2']]\n",
    "            sp2 = int(k[i['spU'] - 1])\n",
    "        if i['o1'] == -1 and i['o2'] == -1:\n",
    "            path1 = path2 = 'no path'\n",
    "            sp1 = sp2 = 'no limit yet'\n",
    "        \n",
    "    if i['w'] != -1:\n",
    "        if i['w1'] != -1:\n",
    "            weth = k[i['w1']]\n",
    "        \n",
    "        if i['w2'] != -1:\n",
    "            weth = k[i['w2']]\n",
    "        \n",
    "        if i['w3'] != -1:\n",
    "            weth = k[i['w3']]"
   ]
  },
  {
   "cell_type": "code",
   "execution_count": 2,
   "metadata": {},
   "outputs": [
    {
     "name": "stdout",
     "output_type": "stream",
     "text": [
      "input weatherweather is rainy\n",
      "input orbit1orbit1 has max sp of 12 megamiles/hour\n",
      "input orbit2orbit2 has max sp of 23 megamiles/hour\n"
     ]
    }
   ],
   "source": [
    "getinp('input weather')\n",
    "\n",
    "wthrTYP = weth\n",
    "\n",
    "getinp('input orbit1')\n",
    "\n",
    "Orbt1 = int(path1[-1])\n",
    "MSP1 = sp1\n",
    "\n",
    "getinp('input orbit2')\n",
    "\n",
    "Orbt2 = int(path2[-1])\n",
    "MSP2 = sp2\n"
   ]
  },
  {
   "cell_type": "code",
   "execution_count": 3,
   "metadata": {},
   "outputs": [
    {
     "data": {
      "text/plain": [
       "('rainy', 1, 12, 2, 23)"
      ]
     },
     "execution_count": 3,
     "metadata": {},
     "output_type": "execute_result"
    }
   ],
   "source": [
    "wthrTYP, Orbt1, MSP1, Orbt2, MSP2"
   ]
  },
  {
   "cell_type": "code",
   "execution_count": 4,
   "metadata": {
    "collapsed": true
   },
   "outputs": [],
   "source": [
    "## wthr --> weather, Orbt --> Orbit/path, Veh --> Vehicle, Sup --> support, Prcntg --> Percent change\n",
    "## Crtr --> creater, MaxSp --> Maximum allowed speed Fnl --> Final\n",
    "class Wthr(object):\n",
    "    \n",
    "    def __init__(self,WthrTyp,VehSup=0,prcntgCrtr=0.0):\n",
    "        self.WthrTyp = WthrTyp\n",
    "        self.prcntgCrtr = prcntgCrtr\n",
    "        self.VehSup = VehSup\n",
    "        self.prcntgCrtr =prcntgCrtr\n",
    "        if self.WthrTyp is 'rainy':\n",
    "            self.VehSup = (0,1,1)\n",
    "            \n",
    "        elif self.WthrTyp is 'windy':\n",
    "            self.VehSup = (1,0,1)\n",
    "            \n",
    "        elif self.WthrTyp is 'sunny':\n",
    "            self.VehSup = (1,1,1)\n",
    "##        else:\n",
    "##            self.VehSup = (1,1,1)\n",
    "            \n",
    "    def PrcntgCrtr(self):\n",
    "        if self.WthrTyp is 'rainy':\n",
    "            self.prcntgCrtr = 0.2\n",
    "        elif self.WthrTyp is 'windy':\n",
    "            self.prcntgCrtr = 0\n",
    "        elif self.WthrTyp is 'sunny':\n",
    "            self.prcntgCrtr = -0.1\n",
    "##        else:\n",
    "##            self.PrcntgCrtr = 0\n",
    "        return self.prcntgCrtr\n",
    "            \n"
   ]
  },
  {
   "cell_type": "code",
   "execution_count": 5,
   "metadata": {
    "collapsed": true
   },
   "outputs": [],
   "source": [
    "prcntgCrtr = 0\n",
    "class Orbt(object):\n",
    "    def __init__(self,OrbtTyp,MaxSp=0,Crtr=0,Dist=0):\n",
    "        self.OrbtTyp = OrbtTyp\n",
    "        self.MaxSp = MaxSp\n",
    "        self.Crtr = Crtr\n",
    "        self.Dist = Dist\n",
    "        if self.OrbtTyp is 1:\n",
    "            self.Dist = 18\n",
    "            self.Crtr = 20\n",
    "        if self.OrbtTyp is 2:\n",
    "            self.Dist = 20\n",
    "            self.Crtr = 10\n",
    "   \n",
    "    \n",
    "    def FnlCrtr(self):\n",
    "        global prcntgCrtr\n",
    "        self.Crtr += prcntgCrtr * self.Crtr\n",
    "        return self.Crtr"
   ]
  },
  {
   "cell_type": "code",
   "execution_count": 6,
   "metadata": {
    "collapsed": true
   },
   "outputs": [],
   "source": [
    "class Veh(object):\n",
    "    def __init__(self,VehTyp,Sp=0,TCrtr=0):\n",
    "        self.VehTyp = VehTyp\n",
    "        self.Sp = Sp\n",
    "        self.TCrtr = TCrtr\n",
    "        if self.VehTyp is 'bike':\n",
    "            self.Sp = 10\n",
    "            self.TCrtr = 2\n",
    "        elif self.VehTyp is 'tuktuk':\n",
    "            self.Sp = 12\n",
    "            self.TCrtr = 1\n",
    "        elif self.VehTyp is 'supercar':\n",
    "            self.Sp = 20\n",
    "            self.TCrtr = 3\n",
    "        else:\n",
    "            self.Sp = 10\n",
    "            self.TCrtr = 3"
   ]
  },
  {
   "cell_type": "code",
   "execution_count": 7,
   "metadata": {},
   "outputs": [],
   "source": [
    "Weather = Wthr(wthrTYP)\n",
    "P1 = Orbt(Orbt1,MSP1)\n",
    "P2 = Orbt(Orbt2,MSP2)\n",
    "prcntgCrtr = Weather.PrcntgCrtr()"
   ]
  },
  {
   "cell_type": "code",
   "execution_count": 8,
   "metadata": {},
   "outputs": [
    {
     "data": {
      "text/plain": [
       "'rainy'"
      ]
     },
     "execution_count": 8,
     "metadata": {},
     "output_type": "execute_result"
    }
   ],
   "source": [
    "Weather.WthrTyp"
   ]
  },
  {
   "cell_type": "code",
   "execution_count": 9,
   "metadata": {},
   "outputs": [],
   "source": [
    "Bike =Veh('bike')\n",
    "Tuktuk =Veh('Tuktuk')\n",
    "Car =Veh('Supercar')"
   ]
  },
  {
   "cell_type": "code",
   "execution_count": 10,
   "metadata": {},
   "outputs": [
    {
     "data": {
      "text/plain": [
       "(0, 0.0)"
      ]
     },
     "execution_count": 10,
     "metadata": {},
     "output_type": "execute_result"
    }
   ],
   "source": [
    "Weather.VehSup, Weather.prcntgCrtr"
   ]
  },
  {
   "cell_type": "code",
   "execution_count": null,
   "metadata": {
    "collapsed": true
   },
   "outputs": [],
   "source": []
  }
 ],
 "metadata": {
  "kernelspec": {
   "display_name": "Python 3",
   "language": "python",
   "name": "python3"
  },
  "language_info": {
   "codemirror_mode": {
    "name": "ipython",
    "version": 3
   },
   "file_extension": ".py",
   "mimetype": "text/x-python",
   "name": "python",
   "nbconvert_exporter": "python",
   "pygments_lexer": "ipython3",
   "version": "3.6.3"
  }
 },
 "nbformat": 4,
 "nbformat_minor": 2
}
